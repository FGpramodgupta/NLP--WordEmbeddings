{
 "cells": [
  {
   "cell_type": "code",
   "execution_count": 1,
   "metadata": {},
   "outputs": [
    {
     "data": {
      "text/plain": [
       "'Data are units of information, often numeric, that are collected through observation.[1] In a more technical sense, data are a set of values of qualitative or quantitative variables about one or more persons or objects,[1] while a datum (singular of data) is a single value of a single variable.[2]\\nAlthough the terms \"data\" and \"information\" are often used interchangeably, these terms have distinct meanings. In some popular publications, data are sometimes said to be transformed into information when they are viewed in context or in post-analysis.[3] However, in academic treatments of the subject data are simply units of information. Data are used in scientific research, businesses management (e.g., sales data, revenue, profits, stock price), finance, governance (e.g., crime rates, unemployment rates, literacy rates), and in virtually every other form of human organizational activity (e.g., censuses of the number of homeless people by non-profit organizations).\\nData are measured, collected and reported, and analyzed, and from data visualizations such as graphs, tables or images are produced. Data as a general concept refers to the fact that some existing information or knowledge is represented or coded in some form suitable for better usage or processing. Raw data (\"unprocessed data\") is a collection of numbers or characters before it has been \"cleaned\" and corrected by researchers. Raw data needs to be corrected to remove outliers or obvious instrument or data entry errors (e.g., a thermometer reading from an outdoor Arctic location recording a tropical temperature). Data processing commonly occurs by stages, and the \"processed data\" from one stage may be considered the \"raw data\" of the next stage. Field data is raw data that is collected in an uncontrolled \"in situ\" environment. Experimental data is data that is generated within the context of a scientific investigation by observation and recording.\\nData has been described as the new oil of the digital economy.[4]'"
      ]
     },
     "execution_count": 1,
     "metadata": {},
     "output_type": "execute_result"
    }
   ],
   "source": [
    "import nltk\n",
    "\n",
    "paragraph='''Data are units of information, often numeric, that are collected through observation.[1] In a more technical sense, data are a set of values of qualitative or quantitative variables about one or more persons or objects,[1] while a datum (singular of data) is a single value of a single variable.[2]\n",
    "Although the terms \"data\" and \"information\" are often used interchangeably, these terms have distinct meanings. In some popular publications, data are sometimes said to be transformed into information when they are viewed in context or in post-analysis.[3] However, in academic treatments of the subject data are simply units of information. Data are used in scientific research, businesses management (e.g., sales data, revenue, profits, stock price), finance, governance (e.g., crime rates, unemployment rates, literacy rates), and in virtually every other form of human organizational activity (e.g., censuses of the number of homeless people by non-profit organizations).\n",
    "Data are measured, collected and reported, and analyzed, and from data visualizations such as graphs, tables or images are produced. Data as a general concept refers to the fact that some existing information or knowledge is represented or coded in some form suitable for better usage or processing. Raw data (\"unprocessed data\") is a collection of numbers or characters before it has been \"cleaned\" and corrected by researchers. Raw data needs to be corrected to remove outliers or obvious instrument or data entry errors (e.g., a thermometer reading from an outdoor Arctic location recording a tropical temperature). Data processing commonly occurs by stages, and the \"processed data\" from one stage may be considered the \"raw data\" of the next stage. Field data is raw data that is collected in an uncontrolled \"in situ\" environment. Experimental data is data that is generated within the context of a scientific investigation by observation and recording.\n",
    "Data has been described as the new oil of the digital economy.[4]'''\n",
    "\n",
    "paragraph"
   ]
  },
  {
   "cell_type": "code",
   "execution_count": 6,
   "metadata": {},
   "outputs": [],
   "source": [
    "import re\n",
    "from nltk.corpus import stopwords\n",
    "from nltk.stem.porter import PorterStemmer\n",
    "from nltk.stem import WordNetLemmatizer"
   ]
  },
  {
   "cell_type": "code",
   "execution_count": 7,
   "metadata": {},
   "outputs": [],
   "source": [
    "ps=PorterStemmer()\n",
    "wordnet=WordNetLemmatizer()\n",
    "\n"
   ]
  },
  {
   "cell_type": "code",
   "execution_count": 8,
   "metadata": {},
   "outputs": [
    {
     "data": {
      "text/plain": [
       "['Data are units of information, often numeric, that are collected through observation.',\n",
       " '[1] In a more technical sense, data are a set of values of qualitative or quantitative variables about one or more persons or objects,[1] while a datum (singular of data) is a single value of a single variable.',\n",
       " '[2]\\nAlthough the terms \"data\" and \"information\" are often used interchangeably, these terms have distinct meanings.',\n",
       " 'In some popular publications, data are sometimes said to be transformed into information when they are viewed in context or in post-analysis.',\n",
       " '[3] However, in academic treatments of the subject data are simply units of information.',\n",
       " 'Data are used in scientific research, businesses management (e.g., sales data, revenue, profits, stock price), finance, governance (e.g., crime rates, unemployment rates, literacy rates), and in virtually every other form of human organizational activity (e.g., censuses of the number of homeless people by non-profit organizations).',\n",
       " 'Data are measured, collected and reported, and analyzed, and from data visualizations such as graphs, tables or images are produced.',\n",
       " 'Data as a general concept refers to the fact that some existing information or knowledge is represented or coded in some form suitable for better usage or processing.',\n",
       " 'Raw data (\"unprocessed data\") is a collection of numbers or characters before it has been \"cleaned\" and corrected by researchers.',\n",
       " 'Raw data needs to be corrected to remove outliers or obvious instrument or data entry errors (e.g., a thermometer reading from an outdoor Arctic location recording a tropical temperature).',\n",
       " 'Data processing commonly occurs by stages, and the \"processed data\" from one stage may be considered the \"raw data\" of the next stage.',\n",
       " 'Field data is raw data that is collected in an uncontrolled \"in situ\" environment.',\n",
       " 'Experimental data is data that is generated within the context of a scientific investigation by observation and recording.',\n",
       " 'Data has been described as the new oil of the digital economy.',\n",
       " '[4]']"
      ]
     },
     "execution_count": 8,
     "metadata": {},
     "output_type": "execute_result"
    }
   ],
   "source": [
    "sentences=nltk.sent_tokenize(paragraph)\n",
    "sentences"
   ]
  },
  {
   "cell_type": "code",
   "execution_count": 9,
   "metadata": {},
   "outputs": [],
   "source": [
    "corpus=[]\n",
    "for i in range(len(sentences)):\n",
    "    review=re.sub('[^a-zA-Z]',' ',sentences[i])\n",
    "    review=review.lower()\n",
    "    review=review.split()\n",
    "    #review=[ps.stem(word) for word in review if not word in set(stopwords.words('English'))]\n",
    "    review=[wordnet.lemmatize(word) for word in review if not word in set(stopwords.words('English'))]\n",
    "    review=' '.join(review)\n",
    "    corpus.append(review)"
   ]
  },
  {
   "cell_type": "code",
   "execution_count": 10,
   "metadata": {},
   "outputs": [],
   "source": [
    "# for Bag pf Words\n",
    "#from sklearn.feature_extraction.text import CountVectorizer\n",
    "\n",
    "#for TF-IDF\n",
    "from sklearn.feature_extraction.text import CountVectorizer\n",
    "\n",
    "cv=CountVectorizer()\n",
    "\n",
    "X=cv.fit_transform(corpus).toarray()"
   ]
  },
  {
   "cell_type": "code",
   "execution_count": null,
   "metadata": {},
   "outputs": [],
   "source": []
  },
  {
   "cell_type": "code",
   "execution_count": null,
   "metadata": {},
   "outputs": [],
   "source": []
  }
 ],
 "metadata": {
  "kernelspec": {
   "display_name": "Python 3",
   "language": "python",
   "name": "python3"
  },
  "language_info": {
   "codemirror_mode": {
    "name": "ipython",
    "version": 3
   },
   "file_extension": ".py",
   "mimetype": "text/x-python",
   "name": "python",
   "nbconvert_exporter": "python",
   "pygments_lexer": "ipython3",
   "version": "3.8.5"
  }
 },
 "nbformat": 4,
 "nbformat_minor": 4
}
